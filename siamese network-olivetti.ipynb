{
 "cells": [
  {
   "cell_type": "code",
   "execution_count": 8,
   "id": "e35bc946",
   "metadata": {
    "ExecuteTime": {
     "end_time": "2021-07-27T17:42:34.050731Z",
     "start_time": "2021-07-27T17:42:34.026508Z"
    }
   },
   "outputs": [
    {
     "name": "stdout",
     "output_type": "stream",
     "text": [
      "[PhysicalDevice(name='/physical_device:CPU:0', device_type='CPU'), PhysicalDevice(name='/physical_device:GPU:0', device_type='GPU')]\n"
     ]
    }
   ],
   "source": [
    "import tensorflow as tf\n",
    "from tensorflow.keras.layers import Conv2D, Dense, Input\n",
    "from tensorflow.keras import backend as K\n",
    "from tensorflow.keras.models import Model\n",
    "from sklearn.datasets import fetch_olivetti_faces \n",
    "print(tf.config.list_physical_devices())\n",
    "import numpy as np\n",
    "from matplotlib import pyplot as plt\n",
    "import seaborn as sns"
   ]
  },
  {
   "cell_type": "code",
   "execution_count": 4,
   "id": "b8c5788c",
   "metadata": {
    "ExecuteTime": {
     "end_time": "2021-07-27T17:39:43.839140Z",
     "start_time": "2021-07-27T17:39:43.767412Z"
    }
   },
   "outputs": [],
   "source": [
    "dataset = fetch_olivetti_faces(data_home='./dataset/',download_if_missing=False)"
   ]
  },
  {
   "cell_type": "code",
   "execution_count": 6,
   "id": "e0c4429a",
   "metadata": {
    "ExecuteTime": {
     "end_time": "2021-07-27T17:41:44.412400Z",
     "start_time": "2021-07-27T17:41:44.384531Z"
    }
   },
   "outputs": [
    {
     "name": "stdout",
     "output_type": "stream",
     "text": [
      "(400, 64, 64)\n",
      "(400,)\n"
     ]
    }
   ],
   "source": [
    "images = dataset['images']\n",
    "targets = dataset['target']\n",
    "print(images.shape)\n",
    "print(targets.shape)"
   ]
  },
  {
   "cell_type": "code",
   "execution_count": 10,
   "id": "d43bc31e",
   "metadata": {
    "ExecuteTime": {
     "end_time": "2021-07-27T17:52:00.156378Z",
     "start_time": "2021-07-27T17:52:00.135701Z"
    }
   },
   "outputs": [
    {
     "data": {
      "text/plain": [
       "1"
      ]
     },
     "execution_count": 10,
     "metadata": {},
     "output_type": "execute_result"
    }
   ],
   "source": [
    "targets[11]"
   ]
  },
  {
   "cell_type": "code",
   "execution_count": 11,
   "id": "54a68686",
   "metadata": {
    "ExecuteTime": {
     "end_time": "2021-07-27T17:54:29.087354Z",
     "start_time": "2021-07-27T17:54:29.063141Z"
    }
   },
   "outputs": [],
   "source": [
    "def get_label_map(images, targets):\n",
    "    image_label_map = {}\n",
    "    for i,image in enumerate(images):\n",
    "        if targets[i] not in image_label_map:\n",
    "            image_label_map[targets[i]] = []\n",
    "        image_label_map[targets[i]].append(i)\n",
    "    return image_label_map"
   ]
  },
  {
   "cell_type": "code",
   "execution_count": 12,
   "id": "b85212de",
   "metadata": {
    "ExecuteTime": {
     "end_time": "2021-07-27T17:54:53.393702Z",
     "start_time": "2021-07-27T17:54:53.379788Z"
    }
   },
   "outputs": [
    {
     "name": "stdout",
     "output_type": "stream",
     "text": [
      "dict_keys([0, 1, 2, 3, 4, 5, 6, 7, 8, 9, 10, 11, 12, 13, 14, 15, 16, 17, 18, 19, 20, 21, 22, 23, 24, 25, 26, 27, 28, 29, 30, 31, 32, 33, 34, 35, 36, 37, 38, 39])\n"
     ]
    }
   ],
   "source": [
    "image_label_map = get_label_map(images, targets)\n",
    "print(image_label_map.keys())"
   ]
  },
  {
   "cell_type": "code",
   "execution_count": null,
   "id": "ef2ea524",
   "metadata": {},
   "outputs": [],
   "source": []
  }
 ],
 "metadata": {
  "kernelspec": {
   "display_name": "Python 3 (ipykernel)",
   "language": "python",
   "name": "python3"
  },
  "language_info": {
   "codemirror_mode": {
    "name": "ipython",
    "version": 3
   },
   "file_extension": ".py",
   "mimetype": "text/x-python",
   "name": "python",
   "nbconvert_exporter": "python",
   "pygments_lexer": "ipython3",
   "version": "3.8.10"
  },
  "varInspector": {
   "cols": {
    "lenName": 16,
    "lenType": 16,
    "lenVar": 40
   },
   "kernels_config": {
    "python": {
     "delete_cmd_postfix": "",
     "delete_cmd_prefix": "del ",
     "library": "var_list.py",
     "varRefreshCmd": "print(var_dic_list())"
    },
    "r": {
     "delete_cmd_postfix": ") ",
     "delete_cmd_prefix": "rm(",
     "library": "var_list.r",
     "varRefreshCmd": "cat(var_dic_list()) "
    }
   },
   "types_to_exclude": [
    "module",
    "function",
    "builtin_function_or_method",
    "instance",
    "_Feature"
   ],
   "window_display": false
  }
 },
 "nbformat": 4,
 "nbformat_minor": 5
}
